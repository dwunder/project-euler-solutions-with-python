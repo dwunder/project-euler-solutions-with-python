{
 "cells": [
  {
   "cell_type": "markdown",
   "metadata": {},
   "source": [
    "https://projecteuler.net/problem=1\n",
    "\n",
    "Multiples of 3 and 5\n",
    "Problem 1 \n",
    "If we list all the natural numbers below 10 that are multiples of 3 or 5, we get 3, 5, 6 and 9. The sum of these multiples is 23.\n",
    "\n",
    "Find the sum of all the multiples of 3 or 5 below 1000."
   ]
  },
  {
   "cell_type": "markdown",
   "metadata": {},
   "source": [
    "This problem is pretty straight-foward. . . we can go through every number 1-999, and use the modulus operator to see if 3 or 5 evenly divide. "
   ]
  },
  {
   "cell_type": "code",
   "execution_count": 1,
   "metadata": {},
   "outputs": [],
   "source": [
    "%%time\n",
    "#Brute forece-- check every number 1-999\n",
    "running_sum = 0\n",
    "for number in range(1,1000):\n",
    "    if number % 5 == 0 or number % 3 == 0:\n",
    "        running_sum += number\n",
    "print(running_sum)"
   ]
  },
  {
   "cell_type": "markdown",
   "metadata": {},
   "source": [
    "With a process this fast, it doesn't matter if we're trying to be efficient. But with larger numbers, it could save us time.\n",
    "Since 3 will divide every 3rd number, and 5 every 5th, it should be more efficient to check 3 before checking 5--since it's more likely to be true"
   ]
  },
  {
   "cell_type": "code",
   "execution_count": 2,
   "metadata": {},
   "outputs": [],
   "source": [
    "large_nbr = 10000000"
   ]
  },
  {
   "cell_type": "code",
   "execution_count": 3,
   "metadata": {},
   "outputs": [],
   "source": [
    "import time"
   ]
  },
  {
   "cell_type": "code",
   "execution_count": 4,
   "metadata": {},
   "outputs": [
    {
     "name": "stdout",
     "output_type": "stream",
     "text": [
      "1.6815594832102458\n",
      "Wall time: 5.04 s\n"
     ]
    }
   ],
   "source": [
    "%%time\n",
    "run_time = []\n",
    "for i in range(3):\n",
    "    t0 = time.time()\n",
    "    #Brute forece-- check every number 1-999\n",
    "    running_sum = 0\n",
    "    for number in range(1,large_nbr):\n",
    "        if number % 5 == 0 or number % 3 == 0:\n",
    "            running_sum += number\n",
    "    run_time.append(time.time() - t0)\n",
    "    \n",
    "print(sum(run_time)/len(run_time))\n",
    "    "
   ]
  },
  {
   "cell_type": "code",
   "execution_count": 5,
   "metadata": {},
   "outputs": [
    {
     "name": "stdout",
     "output_type": "stream",
     "text": [
      "1.5944147904713948\n",
      "Wall time: 4.78 s\n"
     ]
    }
   ],
   "source": [
    "%%time\n",
    "run_time = []\n",
    "for i in range(3):\n",
    "    t0 = time.time()\n",
    "    #Brute forece-- check every number 1-999\n",
    "    running_sum = 0\n",
    "    for number in range(1,large_nbr):\n",
    "        if number % 3 == 0 or number % 5 == 0:\n",
    "            running_sum += number\n",
    "    run_time.append(time.time() - t0)\n",
    "    \n",
    "print(sum(run_time)/len(run_time))"
   ]
  },
  {
   "cell_type": "markdown",
   "metadata": {},
   "source": [
    "If we're less concerned about efficient use of memory, we can make the code cleaner and faster by generating a list of multiples and adding them in a single line"
   ]
  },
  {
   "cell_type": "code",
   "execution_count": 6,
   "metadata": {},
   "outputs": [
    {
     "name": "stdout",
     "output_type": "stream",
     "text": [
      "233168\n"
     ]
    }
   ],
   "source": [
    "print(sum([multiple for multiple in range(1,1000) if multiple % 3 == 0 or multiple % 5 == 0]))"
   ]
  },
  {
   "cell_type": "code",
   "execution_count": 7,
   "metadata": {},
   "outputs": [
    {
     "name": "stdout",
     "output_type": "stream",
     "text": [
      "1.1544047991434734\n",
      "Wall time: 3.46 s\n"
     ]
    }
   ],
   "source": [
    "%%time\n",
    "run_time = []\n",
    "for i in range(3):\n",
    "    t0 = time.time()\n",
    "    sum([multiple for multiple in range(1,large_nbr) if multiple % 3 == 0 or multiple % 5 == 0])\n",
    "    run_time.append(time.time() - t0)\n",
    "    \n",
    "print(sum(run_time)/len(run_time))"
   ]
  },
  {
   "cell_type": "markdown",
   "metadata": {},
   "source": [
    "There are many more ways to make this code more efficient -- but shaving off roughly 1/3rd of runtime and getting it down to a signle line of code aint bad"
   ]
  },
  {
   "cell_type": "code",
   "execution_count": null,
   "metadata": {},
   "outputs": [],
   "source": []
  }
 ],
 "metadata": {
  "kernelspec": {
   "display_name": "Python 3",
   "language": "python",
   "name": "python3"
  },
  "language_info": {
   "codemirror_mode": {
    "name": "ipython",
    "version": 3
   },
   "file_extension": ".py",
   "mimetype": "text/x-python",
   "name": "python",
   "nbconvert_exporter": "python",
   "pygments_lexer": "ipython3",
   "version": "3.7.1"
  }
 },
 "nbformat": 4,
 "nbformat_minor": 2
}
