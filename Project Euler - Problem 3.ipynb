{
 "cells": [
  {
   "cell_type": "markdown",
   "metadata": {},
   "source": [
    "https://projecteuler.net/problem=3\n",
    "\n",
    "Largest prime factor\n",
    "Problem 3 \n",
    "The prime factors of 13195 are 5, 7, 13 and 29.\n",
    "\n",
    "What is the largest prime factor of the number 600851475143 ?"
   ]
  },
  {
   "cell_type": "markdown",
   "metadata": {},
   "source": [
    "This is one of the first problems on Project Euler that requires some forthought. Lets see why by attempting to solve this problem brute force, but with a smaller number"
   ]
  },
  {
   "cell_type": "code",
   "execution_count": 1,
   "metadata": {},
   "outputs": [
    {
     "name": "stdout",
     "output_type": "stream",
     "text": [
      "5\n",
      "Wall time: 3.26 s\n"
     ]
    }
   ],
   "source": [
    "%%time\n",
    "nbr = 100000000\n",
    "\n",
    "#First, find all non-even factors\n",
    "factors = [divisor for divisor in range(1,nbr,2) if nbr % divisor == 0]\n",
    "\n",
    "largest_prime_factor = 2\n",
    "for divisor in factors:\n",
    "    #a prime number is any number that only has itself and 1 as a factor\n",
    "    prime = True\n",
    "    for i in range(2,divisor):\n",
    "        if divisor % i == 0:\n",
    "            prime = False\n",
    "    \n",
    "    if prime:\n",
    "        largest_prime_factor = divisor\n",
    "\n",
    "print(largest_prime_factor)"
   ]
  },
  {
   "cell_type": "markdown",
   "metadata": {},
   "source": [
    "At only 100M, it's taking several seconds to calculate. Considering we're solving for a 600B, this might not be a workable solution. But lets try at 1B just to see"
   ]
  },
  {
   "cell_type": "code",
   "execution_count": 2,
   "metadata": {},
   "outputs": [
    {
     "name": "stdout",
     "output_type": "stream",
     "text": [
      "791317\n",
      "Wall time: 30.1 s\n"
     ]
    }
   ],
   "source": [
    "%%time\n",
    "nbr = 934545377\n",
    "\n",
    "#First, find all non-even factors\n",
    "factors = [divisor for divisor in range(1,nbr,2) if nbr % divisor == 0]\n",
    "\n",
    "largest_prime_factor = 2\n",
    "for divisor in factors:\n",
    "    #a prime number is any number that only has itself and 1 as a factor\n",
    "    prime = True\n",
    "    for i in range(2,divisor):\n",
    "        if divisor % i == 0:\n",
    "            prime = False\n",
    "    \n",
    "    if prime:\n",
    "        largest_prime_factor = divisor\n",
    "\n",
    "print(largest_prime_factor)"
   ]
  },
  {
   "cell_type": "markdown",
   "metadata": {},
   "source": [
    "Considering project euler problems should be solved in under a minute, and we're on track to taking a few days. . . this might not be the right approach. Lets figure out which part is taking so long"
   ]
  },
  {
   "cell_type": "code",
   "execution_count": 3,
   "metadata": {},
   "outputs": [],
   "source": [
    "import time"
   ]
  },
  {
   "cell_type": "code",
   "execution_count": 4,
   "metadata": {},
   "outputs": [
    {
     "name": "stdout",
     "output_type": "stream",
     "text": [
      "31.897083044052124  to calculate factors of nbr\n",
      "0.09376788139343262  to check if these are prime\n",
      "791317\n",
      "Wall time: 32 s\n"
     ]
    }
   ],
   "source": [
    "%%time\n",
    "nbr = 934545377\n",
    "\n",
    "#First, find all non-even factors\n",
    "t0 = time.time()\n",
    "factors = [divisor for divisor in range(1,nbr,2) if nbr % divisor == 0]\n",
    "print(time.time()-t0, ' to calculate factors of nbr')\n",
    "\n",
    "t0 = time.time()\n",
    "largest_prime_factor = 2\n",
    "for divisor in factors:\n",
    "    #a prime number is any number that only has itself and 1 as a factor\n",
    "    prime = True\n",
    "    for i in range(2,divisor):\n",
    "        if divisor % i == 0:\n",
    "            prime = False\n",
    "    \n",
    "    if prime:\n",
    "        largest_prime_factor = divisor\n",
    "print(time.time()-t0, ' to check if these are prime')\n",
    "print(largest_prime_factor)"
   ]
  },
  {
   "cell_type": "markdown",
   "metadata": {},
   "source": [
    "Well, getting all those factors is sure taking a long time--lets see how many we have"
   ]
  },
  {
   "cell_type": "code",
   "execution_count": 5,
   "metadata": {},
   "outputs": [
    {
     "data": {
      "text/plain": [
       "3"
      ]
     },
     "execution_count": 5,
     "metadata": {},
     "output_type": "execute_result"
    }
   ],
   "source": [
    "len(factors)"
   ]
  },
  {
   "cell_type": "markdown",
   "metadata": {},
   "source": [
    "Well, that's pretty telling. But still, it took nearly a 1/10th of a second just to check if those 3 numbers were prime. Clearly, we need a better approach. "
   ]
  },
  {
   "cell_type": "code",
   "execution_count": 6,
   "metadata": {},
   "outputs": [
    {
     "name": "stdout",
     "output_type": "stream",
     "text": [
      "Number:  934545377 Factor:  1181\n",
      "Number:  791317.0 Factor:  791317\n",
      "791317\n",
      "Wall time: 116 ms\n"
     ]
    }
   ],
   "source": [
    "%%time\n",
    "nbr = 934545377\n",
    "\n",
    "def faster_find_largest_prime_factor(nbr):\n",
    "    divisor = 2\n",
    "    largest_prime_factor = 1\n",
    "    while nbr>1:\n",
    "        if nbr % divisor == 0:\n",
    "            print('Number: ', nbr, 'Factor: ', divisor)\n",
    "            largest_prime_factor = divisor\n",
    "            nbr /= divisor\n",
    "            while nbr % divisor == 0:\n",
    "                nbr /= divisor\n",
    "        divisor += 1\n",
    "    print(largest_prime_factor)\n",
    "\n",
    "faster_find_largest_prime_factor(nbr)"
   ]
  },
  {
   "cell_type": "markdown",
   "metadata": {},
   "source": [
    "Instead of checking EVERY number to see if it's a factor of our number, each time we find a factor we can divide it out repeatedly until it no longer evenly divides. \n",
    "\n",
    "We know there can't be another factor larger than the number that results from the division (e.g., 10/2 = 5. We can't have another divisor larger than 5, because 2*(5+m) = 10 +2m, which is larger than 10)\n",
    "\n",
    "Additionally, since we're dividing out every multiple of the factor we're observing, we can be guaranteed we're only looking at prime numbers. Doing it this way, we solve our problem several orders of magnitude faster. Maybe we can use this for our really, really big number"
   ]
  },
  {
   "cell_type": "code",
   "execution_count": 7,
   "metadata": {},
   "outputs": [
    {
     "name": "stdout",
     "output_type": "stream",
     "text": [
      "Number:  600851475143 Factor:  71\n",
      "Number:  8462696833.0 Factor:  839\n",
      "Number:  10086647.0 Factor:  1471\n",
      "Number:  6857.0 Factor:  6857\n",
      "6857\n",
      "Wall time: 4.16 ms\n"
     ]
    }
   ],
   "source": [
    "%%time\n",
    "nbr = 600851475143\n",
    "faster_find_largest_prime_factor(nbr)"
   ]
  },
  {
   "cell_type": "markdown",
   "metadata": {},
   "source": [
    "There are ways to make this faster, especially as we grow to really, really large numbers. Still, eventually the problem becomes so complex, it can't be computed on modern computers--this is the basis for some types of modern encryption\n",
    "\n",
    "https://en.wikipedia.org/wiki/Integer_factorization"
   ]
  },
  {
   "cell_type": "code",
   "execution_count": null,
   "metadata": {},
   "outputs": [],
   "source": []
  }
 ],
 "metadata": {
  "kernelspec": {
   "display_name": "Python 3",
   "language": "python",
   "name": "python3"
  },
  "language_info": {
   "codemirror_mode": {
    "name": "ipython",
    "version": 3
   },
   "file_extension": ".py",
   "mimetype": "text/x-python",
   "name": "python",
   "nbconvert_exporter": "python",
   "pygments_lexer": "ipython3",
   "version": "3.7.1"
  }
 },
 "nbformat": 4,
 "nbformat_minor": 2
}
